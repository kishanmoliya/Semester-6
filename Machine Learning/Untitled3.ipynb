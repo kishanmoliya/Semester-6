{
 "cells": [
  {
   "cell_type": "markdown",
   "id": "b40f357b",
   "metadata": {},
   "source": [
    " ### Covariance Matrix Computation"
   ]
  },
  {
   "cell_type": "code",
   "execution_count": 6,
   "id": "fee3116f",
   "metadata": {},
   "outputs": [
    {
     "data": {
      "text/plain": [
       "array([66., 60., 60.])"
      ]
     },
     "execution_count": 6,
     "metadata": {},
     "output_type": "execute_result"
    }
   ],
   "source": [
    "import numpy as np\n",
    "\n",
    "marks = np.array([[90, 90, 60, 60, 30], [60, 90, 60, 60, 30], [90, 30, 60, 90, 30]])\n",
    "\n",
    "mean_marks = np.mean(marks, axis = 1)\n",
    "mean_marks"
   ]
  },
  {
   "cell_type": "code",
   "execution_count": 7,
   "id": "487e5cf8",
   "metadata": {},
   "outputs": [
    {
     "data": {
      "text/plain": [
       "array([[504., 360., 180.],\n",
       "       [360., 360.,   0.],\n",
       "       [180.,   0., 720.]])"
      ]
     },
     "execution_count": 7,
     "metadata": {},
     "output_type": "execute_result"
    }
   ],
   "source": [
    "CovMat = np.cov(marks, bias=True)\n",
    "CovMat"
   ]
  },
  {
   "cell_type": "code",
   "execution_count": 8,
   "id": "183ff8d7",
   "metadata": {},
   "outputs": [
    {
     "data": {
      "text/plain": [
       "array([ 44.81966028, 910.06995304, 629.11038668])"
      ]
     },
     "execution_count": 8,
     "metadata": {},
     "output_type": "execute_result"
    }
   ],
   "source": [
    "eig_val, eig_vec = np.linalg.eig(CovMat)\n",
    "eig_val"
   ]
  },
  {
   "cell_type": "code",
   "execution_count": 9,
   "id": "7dc5e39f",
   "metadata": {},
   "outputs": [
    {
     "data": {
      "text/plain": [
       "array([[ 0.6487899 , -0.65580225, -0.3859988 ],\n",
       "       [-0.74104991, -0.4291978 , -0.51636642],\n",
       "       [-0.17296443, -0.62105769,  0.7644414 ]])"
      ]
     },
     "execution_count": 9,
     "metadata": {},
     "output_type": "execute_result"
    }
   ],
   "source": [
    "eig_vec"
   ]
  },
  {
   "cell_type": "code",
   "execution_count": 10,
   "id": "a683f438",
   "metadata": {},
   "outputs": [
    {
     "name": "stdout",
     "output_type": "stream",
     "text": [
      "910.0699530410361\n",
      "629.1103866763253\n",
      "44.81966028263878\n"
     ]
    }
   ],
   "source": [
    "eig_pairs = [(np.abs(eig_val[i]), eig_vec[:, i]) for i in range(len(eig_val))]\n",
    "eig_pairs.sort(key=lambda x:x[0], reverse=True)\n",
    "\n",
    "for i in eig_pairs:\n",
    "    print(i[0])"
   ]
  },
  {
   "cell_type": "code",
   "execution_count": 15,
   "id": "c8a6f807",
   "metadata": {},
   "outputs": [
    {
     "name": "stdout",
     "output_type": "stream",
     "text": [
      "Matrix W:\n",
      " [[-0.65580225 -0.3859988 ]\n",
      " [-0.4291978  -0.51636642]\n",
      " [-0.62105769  0.7644414 ]]\n"
     ]
    }
   ],
   "source": [
    "matrix_w = np.hstack((eig_pairs[0][1].reshape(3, 1), eig_pairs[1][1].reshape(3, 1)))\n",
    "print('Matrix W:\\n', matrix_w)"
   ]
  },
  {
   "cell_type": "code",
   "execution_count": 16,
   "id": "7f3a89ab",
   "metadata": {},
   "outputs": [
    {
     "data": {
      "text/plain": [
       "array([[-34.37098481,  -9.98345733,   3.93481353, -14.69691716,\n",
       "         55.11654576],\n",
       "       [ 13.66927088, -47.68820559,   2.31599277,  25.24923474,\n",
       "          6.45370719]])"
      ]
     },
     "execution_count": 16,
     "metadata": {},
     "output_type": "execute_result"
    }
   ],
   "source": [
    "transformed = matrix_w.T.dot(marks-mean_marks.reshape(3, 1))\n",
    "transformed"
   ]
  },
  {
   "cell_type": "code",
   "execution_count": 19,
   "id": "0884958e",
   "metadata": {},
   "outputs": [
    {
     "data": {
      "text/plain": [
       "array([[-34.37098481, -13.66927088],\n",
       "       [ -9.98345733,  47.68820559],\n",
       "       [  3.93481353,  -2.31599277],\n",
       "       [-14.69691716, -25.24923474],\n",
       "       [ 55.11654576,  -6.45370719]])"
      ]
     },
     "execution_count": 19,
     "metadata": {},
     "output_type": "execute_result"
    }
   ],
   "source": [
    "from sklearn.decomposition import PCA as sklearnPCA\n",
    "sklearn_pca = sklearnPCA(n_components=2)\n",
    "sklearn_transf = sklearn_pca.fit_transform(marks.T)\n",
    "sklearn_transf"
   ]
  },
  {
   "cell_type": "code",
   "execution_count": 20,
   "id": "2eac2d81",
   "metadata": {},
   "outputs": [
    {
     "data": {
      "text/plain": [
       "array([[-0.65580225, -0.4291978 , -0.62105769],\n",
       "       [ 0.3859988 ,  0.51636642, -0.7644414 ]])"
      ]
     },
     "execution_count": 20,
     "metadata": {},
     "output_type": "execute_result"
    }
   ],
   "source": [
    "sklearn_pca.components_"
   ]
  },
  {
   "cell_type": "code",
   "execution_count": 21,
   "id": "01176dc1",
   "metadata": {},
   "outputs": [
    {
     "data": {
      "text/plain": [
       "array([910.06995304, 629.11038668,  44.81966028])"
      ]
     },
     "execution_count": 21,
     "metadata": {},
     "output_type": "execute_result"
    }
   ],
   "source": [
    "eig_val[:: -1].sort()\n",
    "eig_val"
   ]
  },
  {
   "cell_type": "code",
   "execution_count": 22,
   "id": "d447d96c",
   "metadata": {},
   "outputs": [
    {
     "data": {
      "text/plain": [
       "array([0.57453911, 0.39716565, 0.02829524])"
      ]
     },
     "execution_count": 22,
     "metadata": {},
     "output_type": "execute_result"
    }
   ],
   "source": [
    "eig_val/eig_val.sum()"
   ]
  },
  {
   "cell_type": "code",
   "execution_count": 23,
   "id": "9ccc0aee",
   "metadata": {},
   "outputs": [
    {
     "data": {
      "text/plain": [
       "array([0.57453911, 0.39716565])"
      ]
     },
     "execution_count": 23,
     "metadata": {},
     "output_type": "execute_result"
    }
   ],
   "source": [
    "sklearn_pca.explained_variance_ratio_"
   ]
  },
  {
   "cell_type": "code",
   "execution_count": null,
   "id": "aeec5e81",
   "metadata": {},
   "outputs": [],
   "source": [
    "sklearn_pca.explained_variance_ratio_.co"
   ]
  }
 ],
 "metadata": {
  "kernelspec": {
   "display_name": "Python 3 (ipykernel)",
   "language": "python",
   "name": "python3"
  },
  "language_info": {
   "codemirror_mode": {
    "name": "ipython",
    "version": 3
   },
   "file_extension": ".py",
   "mimetype": "text/x-python",
   "name": "python",
   "nbconvert_exporter": "python",
   "pygments_lexer": "ipython3",
   "version": "3.10.9"
  }
 },
 "nbformat": 4,
 "nbformat_minor": 5
}
